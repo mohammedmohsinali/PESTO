{
  "nbformat": 4,
  "nbformat_minor": 0,
  "metadata": {
    "colab": {
      "name": "Intrinsic_Evaluation_word_embeddings.ipynb",
      "provenance": [],
      "collapsed_sections": []
    },
    "kernelspec": {
      "name": "python3",
      "display_name": "Python 3"
    },
    "language_info": {
      "name": "python"
    }
  },
  "cells": [
    {
      "cell_type": "code",
      "metadata": {
        "id": "fYdAjjZFon61"
      },
      "source": [
        "import re\n",
        "import pandas as pd  # For data handling\n",
        "from time import time  # To time our operations\n",
        "from collections import defaultdict  # For word frequency\n",
        "import multiprocessing\n",
        "import numpy as np\n",
        "from bs4 import BeautifulSoup\n",
        "import csv\n",
        "import tensorflow as tf\n",
        "from tqdm import tqdm\n",
        "from sklearn.feature_extraction.text import TfidfVectorizer\n",
        "from sklearn.metrics.pairwise import cosine_similarity\n",
        "from sklearn.feature_extraction.text import TfidfVectorizer\n",
        "import pickle\n",
        "from gensim.models import Word2Vec\n",
        "import spacy \n",
        "import os\n",
        "import io\n",
        "import matplotlib.pyplot as plt\n",
        "%matplotlib inline\n",
        " \n",
        "import seaborn as sns\n",
        "sns.set_style(\"darkgrid\")\n",
        "\n",
        "from sklearn.decomposition import PCA\n",
        "from scipy.stats.stats import pearsonr, spearmanr\n",
        "from sklearn.metrics.pairwise import cosine_similarity\n",
        "from sklearn.manifold import TSNE"
      ],
      "execution_count": null,
      "outputs": []
    },
    {
      "cell_type": "code",
      "metadata": {
        "id": "LrnY7m0lLkAo"
      },
      "source": [
        "!pip install nlpaug "
      ],
      "execution_count": null,
      "outputs": []
    },
    {
      "cell_type": "code",
      "metadata": {
        "id": "RxCrOjxOL46X"
      },
      "source": [
        "!pip install textaugment "
      ],
      "execution_count": null,
      "outputs": []
    },
    {
      "cell_type": "code",
      "metadata": {
        "id": "RZPLWgmpKoKG"
      },
      "source": [
        "import nlpaug.augmenter.char as nac\n",
        "import nlpaug.augmenter.word as naw\n",
        "import nlpaug.augmenter.sentence as nas\n",
        "import nlpaug.flow as nafc\n",
        "from textaugment import Wordnet\n",
        "from nlpaug.util import Action\n",
        "import re\n",
        "import pickle\n",
        "from textaugment import EDA"
      ],
      "execution_count": null,
      "outputs": []
    },
    {
      "cell_type": "code",
      "metadata": {
        "id": "hDzHlV7aMF01"
      },
      "source": [
        "import nltk\n",
        "nltk.download('all')"
      ],
      "execution_count": null,
      "outputs": []
    },
    {
      "cell_type": "code",
      "metadata": {
        "id": "Iaoz5feXowMQ"
      },
      "source": [
        "t = Wordnet()\n",
        "t1 = EDA()"
      ],
      "execution_count": null,
      "outputs": []
    },
    {
      "cell_type": "code",
      "metadata": {
        "id": "9MQu1BSKo0vL"
      },
      "source": [
        "data_wiki = pd.read_csv('./wiki_movie_plots_deduped.csv')\n",
        "wiki = list(data_wiki['Plot'].values)"
      ],
      "execution_count": null,
      "outputs": []
    },
    {
      "cell_type": "code",
      "metadata": {
        "id": "7kV73U-vo_1z"
      },
      "source": [
        "with open(\"conversations.out\", encoding=\"utf8\") as a_file:\n",
        "    i=0\n",
        "    twttr_data = []\n",
        "    for line in a_file:\n",
        "      l = \" \".join(line.split())\n",
        "      l = l.split()\n",
        "      try:\n",
        "        l.pop(0)\n",
        "        l.pop(-1)\n",
        "        l.pop(-1)\n",
        "        l.pop(-1)\n",
        "        l = ' '.join(l)\n",
        "        twttr_data.append(l)\n",
        "      except:\n",
        "        pass"
      ],
      "execution_count": null,
      "outputs": []
    },
    {
      "cell_type": "code",
      "metadata": {
        "id": "8JRzUMxIpYff"
      },
      "source": [
        "eng_data = wiki + twttr_data"
      ],
      "execution_count": null,
      "outputs": []
    },
    {
      "cell_type": "code",
      "metadata": {
        "id": "ZkkIdRfRpgVR",
        "colab": {
          "base_uri": "https://localhost:8080/"
        },
        "outputId": "a7250c69-1624-4fe1-c3f4-732229a62cf2"
      },
      "source": [
        "len(eng_data)"
      ],
      "execution_count": null,
      "outputs": [
        {
          "output_type": "execute_result",
          "data": {
            "text/plain": [
              "4972177"
            ]
          },
          "metadata": {
            "tags": []
          },
          "execution_count": 12
        }
      ]
    },
    {
      "cell_type": "code",
      "metadata": {
        "id": "FNkGEnjY0bAb"
      },
      "source": [
        "data = pd.read_csv('./zeros_v4.csv')\n",
        "data1 = list(data['5'])"
      ],
      "execution_count": null,
      "outputs": []
    },
    {
      "cell_type": "code",
      "metadata": {
        "colab": {
          "base_uri": "https://localhost:8080/"
        },
        "id": "DfDDEwQm1YhY",
        "outputId": "1b549761-0920-42af-a33f-ac348f94a265"
      },
      "source": [
        "len(data1)"
      ],
      "execution_count": null,
      "outputs": [
        {
          "output_type": "execute_result",
          "data": {
            "text/plain": [
              "28249"
            ]
          },
          "metadata": {
            "tags": []
          },
          "execution_count": 14
        }
      ]
    },
    {
      "cell_type": "code",
      "metadata": {
        "id": "xCI955xzpiYQ",
        "colab": {
          "base_uri": "https://localhost:8080/"
        },
        "outputId": "84593128-8e71-4442-fa43-1e5f744c15b2"
      },
      "source": [
        "with open(\"all.txt\", encoding=\"utf8\") as a_file:\n",
        "    final_list_code = []\n",
        "    new_list = []\n",
        "    all_target_pos = []\n",
        "    target_pos = []\n",
        "    i = 0\n",
        "    for line in a_file:\n",
        "        l = \" \".join(line.split())\n",
        "        l = l.split()\n",
        "        if len(l)==0:\n",
        "            final_list_code.append(' '.join(new_list))\n",
        "            new_list = []\n",
        "        if len(l)!=0:\n",
        "            new_list.append(l[0])\n",
        "            # target_pos.append(l[2])\n",
        "\n",
        "with open(\"Hinglish_train_14k_split_conll.txt\", encoding=\"utf8\") as a_file:\n",
        "    final_list = []\n",
        "    new_list = []\n",
        "    target = []\n",
        "    i = 0\n",
        "    for line in a_file:\n",
        "        l = \" \".join(line.split())\n",
        "        l = l.split()\n",
        "        if len(l)!=0 and l[0]=='meta':\n",
        "          target.append(l[2])\n",
        "          # target.append(l[3])\n",
        "        if len(l)==0:\n",
        "            final_list.append(' '.join(new_list))\n",
        "            new_list = []\n",
        "        if len(l)!=0:\n",
        "            new_list.append(l[0])\n",
        "\n",
        "hinglish_data = data1 + final_list_code + final_list\n",
        "print(len(hinglish_data))"
      ],
      "execution_count": null,
      "outputs": [
        {
          "output_type": "stream",
          "text": [
            "44880\n"
          ],
          "name": "stdout"
        }
      ]
    },
    {
      "cell_type": "code",
      "metadata": {
        "id": "gpDXKqcxOs5B"
      },
      "source": [
        "def decontracted(phrase):\n",
        "    # specific\n",
        "    phrase = re.sub(r\"won't\", \"will not\", phrase)\n",
        "    phrase = re.sub(r\"can\\'t\", \"can not\", phrase)\n",
        "\n",
        "    # general\n",
        "    phrase = re.sub(r\"n\\'t\", \" not\", phrase)\n",
        "    phrase = re.sub(r\"\\'re\", \" are\", phrase)\n",
        "    phrase = re.sub(r\"\\'s\", \" is\", phrase)\n",
        "    phrase = re.sub(r\"\\'d\", \" would\", phrase)\n",
        "    phrase = re.sub(r\"\\'ll\", \" will\", phrase)\n",
        "    phrase = re.sub(r\"\\'t\", \" not\", phrase)\n",
        "    phrase = re.sub(r\"\\'ve\", \" have\", phrase)\n",
        "    phrase = re.sub(r\"\\'m\", \" am\", phrase)\n",
        "    return phrase"
      ],
      "execution_count": null,
      "outputs": []
    },
    {
      "cell_type": "code",
      "metadata": {
        "id": "P1MNMrvYOtFp"
      },
      "source": [
        "stopwords= set(['br', 'the', 'i', 'me', 'my', 'myself', 'we', 'our', 'ours', 'ourselves', 'you', \"you're\", \"you've\",\\\n",
        "            \"you'll\", \"you'd\", 'your', 'yours', 'yourself', 'yourselves', 'he', 'him', 'his', 'himself', \\\n",
        "            'she', \"she's\", 'her', 'hers', 'herself', 'it', \"it's\", 'its', 'itself', 'they', 'them', 'their',\\\n",
        "            'theirs', 'themselves', 'what', 'which', 'who', 'whom', 'this', 'that', \"that'll\", 'these', 'those', \\\n",
        "            'am', 'is', 'are', 'was', 'were', 'be', 'been', 'being', 'have', 'has', 'had', 'having', 'do', 'does', \\\n",
        "            'did', 'doing', 'a', 'an', 'the', 'of', \\\n",
        "            'at', 'by', 'for', 'with', 'about', 'between', 'into', 'through', 'during', 'before', 'after',\\\n",
        "            'above', 'below', 'to', 'from', 'up', 'down', 'in', 'out', 'on', 'off', 'over', 'under', 'again',\\\n",
        "            'then', 'once', 'here', 'there', 'when', 'where', 'why', 'how', 'all', 'any', 'both', 'each', 'few', 'more',\\\n",
        "            'most', 'other', 'some', 'such', 'only', 'own', 'same', 'so', 'than', 'too', 'very', \\\n",
        "            's', 't', 'can', 'will', 'just', 'don', \"don't\", 'should', \"should've\", 'now', 'd', 'll', 'm', 'o', 're', \\\n",
        "            've', 'y', 'ain', 'aren', \"aren't\", 'couldn', \"couldn't\", 'didn', \"didn't\", 'doesn', \"doesn't\", 'hadn',\\\n",
        "            \"hadn't\", 'hasn', \"hasn't\", 'haven', \"haven't\", 'isn', \"isn't\", 'ma', 'mightn', \"mightn't\", 'mustn',\\\n",
        "            \"mustn't\", 'needn', \"needn't\", 'shan', \"shan't\", 'shouldn', \"shouldn't\", 'wasn', \"wasn't\", 'weren', \"weren't\", \\\n",
        "            'won', \"won't\", 'wouldn', \"wouldn't\"])\n"
      ],
      "execution_count": null,
      "outputs": []
    },
    {
      "cell_type": "code",
      "metadata": {
        "id": "TPVbzJm7OtH_"
      },
      "source": [
        "# Combining all the above stundents \n",
        "def preprocess(raw):\n",
        "  preprocessed = []\n",
        "  # tqdm is for printing the status bar\n",
        "  for sentance in tqdm(raw):\n",
        "      try:\n",
        "        shortword = re.compile(r'\\W*\\b\\w{1,2}\\b')    \n",
        "        sentance = re.sub(r\"http\\S+\", \"\", sentance)  #removing html tags\n",
        "        sentance = re.sub('meta', '', sentance)\n",
        "        sentance = shortword.sub('', sentance) \n",
        "        # sentance = BeautifulSoup(sentance, 'lxml').get_text() #xml tags\n",
        "        sentance = decontracted(sentance)\n",
        "        sentance = ' '.join(e.lower() for e in sentance.split() if e.lower() not in stopwords)\n",
        "        sentance = ' '.join(word for word in sentance.split() if word[0]!='@')\n",
        "        sentance = re.sub('[^A-Za-z0-9]+', ' ', sentance)\n",
        "        preprocessed.append(sentance.strip())\n",
        "      except:\n",
        "        pass\n",
        "  return preprocessed "
      ],
      "execution_count": null,
      "outputs": []
    },
    {
      "cell_type": "code",
      "metadata": {
        "id": "ZUjbWFAkMWKG"
      },
      "source": [
        "def augment(data):\n",
        "  augmt = []\n",
        "  for i in data:\n",
        "    try:\n",
        "      a1 = t1.random_swap(i)\n",
        "      aug = naw.SynonymAug(aug_src='wordnet')\n",
        "      a2 = aug.augment(i)\n",
        "      augmt.append(a1)\n",
        "      augmt.append(a2)\n",
        "    except:\n",
        "      pass\n",
        "  data = data + augmt  \n",
        "  return data"
      ],
      "execution_count": null,
      "outputs": []
    },
    {
      "cell_type": "code",
      "metadata": {
        "id": "eonh0C-2OtKw"
      },
      "source": [
        "def return_Tokens(data, aug):\n",
        "  if aug==1:\n",
        "    data = preprocess(data)\n",
        "    data = augment(data)\n",
        "  else:\n",
        "    preprocess(data)\n",
        "  final_data = []\n",
        "  for i in data:\n",
        "    final_data.append(i.split())\n",
        "  return final_data"
      ],
      "execution_count": null,
      "outputs": []
    },
    {
      "cell_type": "code",
      "metadata": {
        "colab": {
          "base_uri": "https://localhost:8080/"
        },
        "id": "jnTrximvOtM9",
        "outputId": "eedf2025-7e73-400f-f5c3-6e7254a70f86"
      },
      "source": [
        "hinglish_data = return_Tokens(hinglish_data, aug=1)\n",
        "eng_data = return_Tokens(eng_data, aug=0)"
      ],
      "execution_count": null,
      "outputs": [
        {
          "output_type": "stream",
          "text": [
            "100%|██████████| 44880/44880 [00:02<00:00, 19827.07it/s]\n",
            "100%|██████████| 4972177/4972177 [03:00<00:00, 27571.31it/s]\n"
          ],
          "name": "stderr"
        }
      ]
    },
    {
      "cell_type": "code",
      "metadata": {
        "id": "xRIbPrviLJga"
      },
      "source": [
        "w2v_params = {\n",
        "    'alpha': 0.025,\n",
        "    'size': 300,\n",
        "    'window': 15,\n",
        "    'iter': 1000,\n",
        "    'min_count': 5,\n",
        "    'sample': t,\n",
        "    'sg': 1,\n",
        "    'hs': 0,\n",
        "    'negative': 5\n",
        "}\n",
        "\n",
        "wr_params = {\n",
        "    'size': 300,\n",
        "    'window': 15,\n",
        "    'iter': 1000,\n",
        "    'min_count': 5\n",
        "}"
      ],
      "execution_count": null,
      "outputs": []
    },
    {
      "cell_type": "code",
      "metadata": {
        "colab": {
          "base_uri": "https://localhost:8080/"
        },
        "id": "jpXmoaqXM7Em",
        "outputId": "916cbe5f-f5e4-45d4-8837-2a98f159fcf2"
      },
      "source": [
        "!git clone https://github.com/facebookresearch/fastText.git"
      ],
      "execution_count": null,
      "outputs": [
        {
          "output_type": "stream",
          "text": [
            "Cloning into 'fastText'...\n",
            "remote: Enumerating objects: 3854, done.\u001b[K\n",
            "remote: Total 3854 (delta 0), reused 0 (delta 0), pack-reused 3854\u001b[K\n",
            "Receiving objects: 100% (3854/3854), 8.22 MiB | 9.22 MiB/s, done.\n",
            "Resolving deltas: 100% (2417/2417), done.\n",
            "Checking out files: 100% (526/526), done.\n"
          ],
          "name": "stdout"
        }
      ]
    },
    {
      "cell_type": "code",
      "metadata": {
        "colab": {
          "base_uri": "https://localhost:8080/"
        },
        "id": "xOELh2rVM_xV",
        "outputId": "a686cca5-9151-4b88-9e92-1764b8574075"
      },
      "source": [
        "cd fastText"
      ],
      "execution_count": null,
      "outputs": [
        {
          "output_type": "stream",
          "text": [
            "/content/drive/My Drive/Sentimix/fastText\n"
          ],
          "name": "stdout"
        }
      ]
    },
    {
      "cell_type": "code",
      "metadata": {
        "colab": {
          "base_uri": "https://localhost:8080/"
        },
        "id": "wHtZY3NyNCvk",
        "outputId": "a3eac04c-3402-4886-8a6f-a7f2f42e4aac"
      },
      "source": [
        "!make "
      ],
      "execution_count": null,
      "outputs": [
        {
          "output_type": "stream",
          "text": [
            "c++ -pthread -std=c++11 -march=native -O3 -funroll-loops -DNDEBUG -c src/args.cc\n",
            "c++ -pthread -std=c++11 -march=native -O3 -funroll-loops -DNDEBUG -c src/autotune.cc\n",
            "c++ -pthread -std=c++11 -march=native -O3 -funroll-loops -DNDEBUG -c src/matrix.cc\n",
            "c++ -pthread -std=c++11 -march=native -O3 -funroll-loops -DNDEBUG -c src/dictionary.cc\n",
            "c++ -pthread -std=c++11 -march=native -O3 -funroll-loops -DNDEBUG -c src/loss.cc\n",
            "c++ -pthread -std=c++11 -march=native -O3 -funroll-loops -DNDEBUG -c src/productquantizer.cc\n",
            "c++ -pthread -std=c++11 -march=native -O3 -funroll-loops -DNDEBUG -c src/densematrix.cc\n",
            "c++ -pthread -std=c++11 -march=native -O3 -funroll-loops -DNDEBUG -c src/quantmatrix.cc\n",
            "c++ -pthread -std=c++11 -march=native -O3 -funroll-loops -DNDEBUG -c src/vector.cc\n",
            "c++ -pthread -std=c++11 -march=native -O3 -funroll-loops -DNDEBUG -c src/model.cc\n",
            "c++ -pthread -std=c++11 -march=native -O3 -funroll-loops -DNDEBUG -c src/utils.cc\n",
            "c++ -pthread -std=c++11 -march=native -O3 -funroll-loops -DNDEBUG -c src/meter.cc\n",
            "c++ -pthread -std=c++11 -march=native -O3 -funroll-loops -DNDEBUG -c src/fasttext.cc\n",
            "c++ -pthread -std=c++11 -march=native -O3 -funroll-loops -DNDEBUG args.o autotune.o matrix.o dictionary.o loss.o productquantizer.o densematrix.o quantmatrix.o vector.o model.o utils.o meter.o fasttext.o src/main.cc -o fasttext\n"
          ],
          "name": "stdout"
        }
      ]
    },
    {
      "cell_type": "code",
      "metadata": {
        "colab": {
          "base_uri": "https://localhost:8080/"
        },
        "id": "t47wkVMxNOSJ",
        "outputId": "551f5247-99b5-4f4f-8dc3-913791d2b8d6"
      },
      "source": [
        "cd .."
      ],
      "execution_count": null,
      "outputs": [
        {
          "output_type": "stream",
          "text": [
            "/content/drive/My Drive/Sentimix\n"
          ],
          "name": "stdout"
        }
      ]
    },
    {
      "cell_type": "code",
      "metadata": {
        "id": "HpQ1SAfmLUxn"
      },
      "source": [
        "# output_file = '{:s}_ft'.format(output_name)\n",
        "lr = 0.05\n",
        "dim = 300\n",
        "ws = 5\n",
        "epoch = 1000\n",
        "minCount = 5\n",
        "neg = 5\n",
        "loss = 'ns'\n",
        "t = 1e-4\n",
        "if not os.path.isfile(os.path.join(MODELS_DIR, '{:s}.vec'.format('ft_h_aug'))):\n",
        "    print('Training fasttext....')\n",
        "    %time !./fasttext skipgram -input {hinglish_data} -output {MODELS_DIR+'ft_h_aug'}  -lr {lr} -dim {dim} -ws {ws} -epoch {epoch} -minCount {minCount} -neg {neg} -loss {loss} -t {t}\n",
        "else:\n",
        "    print('\\nUsing existing model file {:s}.vec'.format('ft_h_aug'))"
      ],
      "execution_count": null,
      "outputs": []
    },
    {
      "cell_type": "code",
      "metadata": {
        "id": "lE8g2nSeQBL5"
      },
      "source": [
        "\n",
        "\n",
        "MODELS_DIR = 'models/'\n",
        "!mkdir -p {MODELS_DIR}\n",
        "\n",
        "from gensim.models import Word2Vec\n",
        "from gensim.models import KeyedVectors\n",
        "from gensim.test.utils import datapath, get_tmpfile\n",
        "from gensim.models import KeyedVectors\n",
        "from gensim.scripts.glove2word2vec import glove2word2vec\n",
        "glove_file = datapath('glove.6B.300d.txt')\n",
        "\n",
        "# from gensim.models.wrappers import Wordrank\n",
        "from gensim.models.word2vec import Text8Corpus\n",
        "\n",
        "\n",
        "w2v_params = {\n",
        "    'size': 300,\n",
        "    'min_count': 2\n",
        "}\n",
        "\n",
        "wr_params = {\n",
        "    'size': 300,\n",
        "    'min_count': 2\n",
        "}\n",
        "\n",
        "def train_models(corpus_file, output_name):\n",
        "    # Train using word2vec\n",
        "    # output_file = '{:s}_gs'.format(output_name)\n",
        "    # if not os.path.isfile(os.path.join(MODELS_DIR, '{:s}.vec'.format(output_file))):\n",
        "    #     # print('\\nTraining word2vec on {:s} corpus..'.format(corpus_file))\n",
        "    #     # Text8Corpus class for reading space-separated words file\n",
        "    #     gs_model = Word2Vec(corpus_file, **w2v_params); gs_model\n",
        "    #     gs_model.train(corpus_file, total_examples=gs_model.corpus_count, epochs=1000)\n",
        "    #     locals()['gs_model'].wv.save_word2vec_format(os.path.join(MODELS_DIR, '{:s}.vec'.format(output_file)))\n",
        "    #     print('\\nSaved gensim model as {:s}.vec'.format(output_file))\n",
        "    # else:\n",
        "    #     print('\\nUsing existing model file {:s}.vec'.format(output_file))\n",
        "\n",
        "    output_file = '{:s}_gn'.format(output_name)\n",
        "    if not os.path.isfile(os.path.join(MODELS_DIR, '{:s}.vec'.format(output_file))):\n",
        "        # print('\\nTraining word2vec on {:s} corpus..'.format(corpus_file))\n",
        "        # Text8Corpus class for reading space-separated words file\n",
        "        gn_model = Word2Vec(corpus_file, **w2v_params); gn_model\n",
        "        gn_model.intersect_word2vec_format('GoogleNews-vectors-negative300.bin', lockf=1.0, binary=True)\n",
        "        # gn_model.train(corpus_file, total_examples=gn_model.corpus_count, epochs=5)\n",
        "        locals()['gn_model'].wv.save_word2vec_format(os.path.join(MODELS_DIR, '{:s}.vec'.format(output_file)))\n",
        "        print('\\nSaved google-News model as {:s}.vec'.format(output_file))\n",
        "    else:\n",
        "        print('\\nUsing existing model file {:s}.vec'.format(output_file))\n",
        "\n",
        "\n",
        "    output_file = '{:s}_gv'.format(output_name)\n",
        "    if not os.path.isfile(os.path.join(MODELS_DIR, '{:s}.vec'.format(output_file))):\n",
        "        tmp_file = get_tmpfile(\"gensim.txt\")\n",
        "        _ = glove2word2vec('glove.6B.300d.txt', tmp_file)\n",
        "        gv_model = Word2Vec(corpus_file, **w2v_params); gv_model\n",
        "        gv_model.intersect_word2vec_format(tmp_file, lockf=1.0)\n",
        "        # gv_model.train(corpus_file, total_examples=gv_model.corpus_count, epochs=5)\n",
        "        locals()['gv_model'].wv.save_word2vec_format(os.path.join(MODELS_DIR, '{:s}.vec'.format(output_file)))\n",
        "        print('\\nSaved Glove model as {:s}.vec'.format(output_file))\n",
        "    else:\n",
        "        print('\\nUsing existing model file {:s}.vec'.format(output_file))"
      ],
      "execution_count": null,
      "outputs": []
    },
    {
      "cell_type": "code",
      "metadata": {
        "colab": {
          "base_uri": "https://localhost:8080/"
        },
        "id": "vtgkLvcupgQ3",
        "outputId": "849e2026-6784-4830-f945-0617243c3ce1"
      },
      "source": [
        "train_models(hinglish_data, output_name='hinglish-aug')"
      ],
      "execution_count": null,
      "outputs": [
        {
          "output_type": "stream",
          "text": [
            "\n",
            "Saved gensim model as hinglish-aug_gs.vec\n",
            "\n",
            "Saved google-News model as hinglish-aug_gn.vec\n",
            "\n",
            "Saved Glove model as hinglish-aug_gv.vec\n"
          ],
          "name": "stdout"
        }
      ]
    },
    {
      "cell_type": "code",
      "metadata": {
        "colab": {
          "base_uri": "https://localhost:8080/"
        },
        "id": "OmKF-K2ypgZp",
        "outputId": "88000a34-fb1c-46e1-dc1f-633c0c2f1369"
      },
      "source": [
        "train_models(eng_data, output_name='english')"
      ],
      "execution_count": null,
      "outputs": [
        {
          "output_type": "stream",
          "text": [
            "\n",
            "Saved gensim model as english_gs.vec\n",
            "\n",
            "Saved google-News model as english_gn.vec\n",
            "\n",
            "Saved Glove model as english_gv.vec\n"
          ],
          "name": "stdout"
        }
      ]
    },
    {
      "cell_type": "code",
      "metadata": {
        "id": "Q29RQ3yAgHAy"
      },
      "source": [
        "word_eng = './eng_analogies.txt'\n",
        "simlex_eng = './simlex999.txt'\n",
        "wordsim_eng = './wordsim353.tsv'\n",
        "\n",
        "word_heng = './modified-analogies.txt'\n",
        "simlex_heng = './simlex999-edited - Sheet1.tsv'\n",
        "wordsim_heng = './wsm-edited - Sheet1.tsv'"
      ],
      "execution_count": null,
      "outputs": []
    },
    {
      "cell_type": "code",
      "metadata": {
        "id": "WKho5QxcoKPK"
      },
      "source": [
        "import io\n",
        "\n",
        "def load_vectors(fname):\n",
        "    fin = io.open(fname, 'r', encoding='utf-8', newline='\\n', errors='ignore')\n",
        "    n, d = map(int, fin.readline().split())\n",
        "    data = {}\n",
        "    for line in fin:\n",
        "        tokens = line.rstrip().split(' ')\n",
        "        data[tokens[0]] = np.array(tokens[1:]).reshape(1,-1)\n",
        "    return data"
      ],
      "execution_count": null,
      "outputs": []
    },
    {
      "cell_type": "code",
      "metadata": {
        "id": "E9unPYglSz56"
      },
      "source": [
        "model_h_ft = load_vectors('modelft.vec')"
      ],
      "execution_count": null,
      "outputs": []
    },
    {
      "cell_type": "code",
      "metadata": {
        "id": "OQ_hQC-Kfkr5"
      },
      "source": [
        "ft = KeyedVectors.load_word2vec_format('modelft.vec')"
      ],
      "execution_count": null,
      "outputs": []
    },
    {
      "cell_type": "code",
      "metadata": {
        "id": "v7g0ecyojZ2X"
      },
      "source": [
        "\n",
        "\n",
        "import logging\n",
        "logging.basicConfig(format='%(asctime)s : %(levelname)s : %(message)s', level=logging.INFO)\n",
        "\n",
        "def print_analogy_accuracy(model, questions_file):\n",
        "    acc = model.wv.accuracy(questions_file)\n",
        "\n",
        "    sem_correct = sum((len(acc[i]['correct']) for i in range(5)))\n",
        "    sem_total = sum((len(acc[i]['correct']) + len(acc[i]['incorrect'])) for i in range(5))\n",
        "    sem_acc = 100*float(sem_correct)/sem_total\n",
        "    print('\\nSemantic: {:d}/{:d}, Accuracy: {:.2f}%'.format(sem_correct, sem_total, sem_acc))\n",
        "    \n",
        "    syn_correct = sum((len(acc[i]['correct']) for i in range(5, len(acc)-1)))\n",
        "    syn_total = sum((len(acc[i]['correct']) + len(acc[i]['incorrect'])) for i in range(5,len(acc)-1))\n",
        "    syn_acc = 100*float(syn_correct)/syn_total\n",
        "    print('Syntactic: {:d}/{:d}, Accuracy: {:.2f}%\\n'.format(syn_correct, syn_total, syn_acc))\n",
        "    \n",
        "def print_similarity_accuracy(model, similarity_file):\n",
        "    acc = model.wv.evaluate_word_pairs(similarity_file)\n",
        "    print('Pearson correlation coefficient: {:.2f}'.format(acc[0][0]))\n",
        "    print('Spearman rank correlation coefficient: {:.2f}'.format(acc[1][0]))\n",
        "\n"
      ],
      "execution_count": null,
      "outputs": []
    },
    {
      "cell_type": "code",
      "metadata": {
        "id": "0Ohp8lb-jbEn"
      },
      "source": [
        "print('SimLex-999 similarity')\n",
        "print_similarity_accuracy(ft, simlex_heng)\n",
        "print('\\nWordSim-353 similarity')\n",
        "print_similarity_accuracy(ft, wordsim_heng)"
      ],
      "execution_count": null,
      "outputs": []
    },
    {
      "cell_type": "code",
      "metadata": {
        "id": "ADALucCxTfiy"
      },
      "source": [
        "# model_words = set(model_h_ft.vocab)\n",
        "cosine_sim, cosine_dist, pearson, spearman, human = [], [], [], [], []\n",
        "with open(simlex_heng,'r') as t:\n",
        "  for line in csv.reader(t, delimiter='\\t'):\n",
        "    # if line[0] is '#':\n",
        "    #   continue\n",
        "    if (line[0] in model_h_ft) and (line[1] in model_h_ft):\n",
        "      cosine_sim.append(cosine_similarity(model_h_ft[line[0]].reshape(1,-1), model_h_ft[line[1]].reshape(1,-1))[0][0])\n",
        "      c = cosine_similarity(model_h_ft[line[0]].reshape(1,-1), model_h_ft[line[1]].reshape(1,-1))[0][0]\n",
        "      human.append(float(line[2]))\n",
        "    else:\n",
        "      # print(line[0][0])\n",
        "      if line[0][0] is '#':\n",
        "        continue\n",
        "      # print(line[0])\n",
        "      human.append(float(line[2]))\n",
        "      cosine_sim.append(0)\n",
        "\n",
        "\n",
        "print('cosine sim', np.sum(np.array(cosine_sim))/len(cosine_sim))\n",
        "print('pearson corr', pearsonr(human, cosine_sim))\n",
        "print('spearman corr', spearmanr(human, cosine_sim))"
      ],
      "execution_count": null,
      "outputs": []
    },
    {
      "cell_type": "code",
      "metadata": {
        "id": "FB_wlGpsmtCA"
      },
      "source": [
        "model_heng = load_vectors('newvecs.vec')"
      ],
      "execution_count": null,
      "outputs": []
    },
    {
      "cell_type": "code",
      "metadata": {
        "id": "Z4B58VOj3-VM"
      },
      "source": [
        "model_eng = KeyedVectors.load_word2vec_format('wiki-news-300d-1M.vec')"
      ],
      "execution_count": null,
      "outputs": []
    },
    {
      "cell_type": "code",
      "metadata": {
        "id": "mDU5WslRGnBl"
      },
      "source": [
        ""
      ],
      "execution_count": null,
      "outputs": []
    },
    {
      "cell_type": "code",
      "metadata": {
        "id": "kZo3WlGSm9UC"
      },
      "source": [
        "# with open('newvecs.vec') as f:\n",
        "#     lines = f.readlines()\n",
        "#     model_h = dict()\n",
        "#     vocab_h = set()\n",
        "#     for l in lines:\n",
        "#       l = l.split()\n",
        "#       vocab_h.add(l[0])\n",
        "#       if l[0] in vocab_h:\n",
        "#         model_h[l[0]] = np.array(l[1:])\n",
        "        # print"
      ],
      "execution_count": null,
      "outputs": []
    },
    {
      "cell_type": "code",
      "metadata": {
        "id": "iOu991w-eZjL"
      },
      "source": [
        "model_h_gs = KeyedVectors.load_word2vec_format(MODELS_DIR + 'hinglish_gs.vec')\n",
        "model_h_gn = KeyedVectors.load_word2vec_format(MODELS_DIR + 'hinglish_gn.vec')\n",
        "model_h_gv = KeyedVectors.load_word2vec_format(MODELS_DIR + 'hinglish_gv.vec')"
      ],
      "execution_count": null,
      "outputs": []
    },
    {
      "cell_type": "code",
      "metadata": {
        "id": "Vrsn3OZHoBFv"
      },
      "source": [
        "model_h_gs_aug = KeyedVectors.load_word2vec_format(MODELS_DIR + 'hinglish-aug_gs.vec')\n",
        "model_h_gn_aug = KeyedVectors.load_word2vec_format(MODELS_DIR + 'hinglish-aug_gn.vec')\n",
        "model_h_gv_aug = KeyedVectors.load_word2vec_format(MODELS_DIR + 'hinglish-aug_gv.vec')"
      ],
      "execution_count": null,
      "outputs": []
    },
    {
      "cell_type": "code",
      "metadata": {
        "id": "JrfvodO4ei9_"
      },
      "source": [
        "model_e_gs = KeyedVectors.load_word2vec_format(MODELS_DIR + 'english_gs.vec')\n",
        "model_e_gn = KeyedVectors.load_word2vec_format(MODELS_DIR + 'english_gn.vec')\n",
        "model_e_gv = KeyedVectors.load_word2vec_format(MODELS_DIR + 'english_gv.vec')"
      ],
      "execution_count": null,
      "outputs": []
    },
    {
      "cell_type": "code",
      "metadata": {
        "id": "T4u2BhUmZvb7"
      },
      "source": [
        "def getMeasure_cosine(model, wordanalogy):\n",
        "  model_words = set(model.vocab)\n",
        "  cosine_sim = []\n",
        "  with open(wordanalogy,'r') as f:\n",
        "    for line in f:\n",
        "      line = line.split()\n",
        "      if (line[0] in model_words) and (line[1] in model_words):\n",
        "        cosine_sim.append(cosine_similarity(model[line[0]].reshape(1,-1), model[line[1]].reshape(1,-1))[0][0])\n",
        "      else:\n",
        "        cosine_sim.append(0)\n",
        "  print('cosine sim', np.sum(np.array(cosine_sim))/len(cosine_sim))\n"
      ],
      "execution_count": null,
      "outputs": []
    },
    {
      "cell_type": "code",
      "metadata": {
        "id": "o0rRt0jcZyQB"
      },
      "source": [
        "def getMeasures(model, file, t):\n",
        "  model_words = set(model.vocab)\n",
        "  cosine_sim, cosine_dist, pearson, spearman, human = [], [], [], [], []\n",
        "  if t==1:\n",
        "    with open(file,'r') as t:\n",
        "      for line in csv.reader(t, delimiter='\\t'):\n",
        "        # if line[0] is '#':\n",
        "        #   continue\n",
        "        if (line[0] in model_words) and (line[1] in model_words):\n",
        "          cosine_sim.append(cosine_similarity(model[line[0]].reshape(1,-1), model[line[1]].reshape(1,-1))[0][0])\n",
        "          c = cosine_similarity(model[line[0]].reshape(1,-1), model[line[1]].reshape(1,-1))[0][0]\n",
        "          human.append(float(line[2]))\n",
        "        else:\n",
        "          # print(line[0][0])\n",
        "          if line[0][0] is '#':\n",
        "            continue\n",
        "          # print(line[0])\n",
        "          human.append(float(line[2]))\n",
        "          cosine_sim.append(0)\n",
        "\n",
        "\n",
        "    print('cosine sim', np.sum(np.array(cosine_sim))/len(cosine_sim))\n",
        "    print('pearson corr', pearsonr(human, cosine_sim))\n",
        "    print('spearman corr', spearmanr(human, cosine_sim))\n",
        "\n",
        "  else:\n",
        "    with open(file,'r') as f:\n",
        "      for line in f:\n",
        "        line = line.split()\n",
        "        if line[0] is '#':\n",
        "          continue\n",
        "        elif (line[0] in model_words) and (line[1] in model_words):\n",
        "          cosine_sim.append(cosine_similarity(model[line[0]].reshape(1,-1), model[line[1]].reshape(1,-1))[0][0])\n",
        "          c = cosine_similarity(model[line[0]].reshape(1,-1), model[line[1]].reshape(1,-1))[0][0]\n",
        "          human.append(float(line[2]))\n",
        "        else:\n",
        "          # print(line[2])\n",
        "          human.append(float(line[2]))\n",
        "          cosine_sim.append(0)\n",
        "  \n",
        "    print('cosine sim', np.sum(np.array(cosine_sim))/len(cosine_sim))\n",
        "    print('pearson corr', pearsonr(human, cosine_sim))\n",
        "    print('spearman corr', spearmanr(human, cosine_sim))\n"
      ],
      "execution_count": null,
      "outputs": []
    },
    {
      "cell_type": "code",
      "metadata": {
        "colab": {
          "base_uri": "https://localhost:8080/"
        },
        "id": "a4S1Lbo4I-x7",
        "outputId": "3cfa123e-643b-4595-8468-0a04b7690fb3"
      },
      "source": [
        "print('*****'*2 ,'Word Analogy' ,'*****'*5)\n",
        "getMeasure_cosine(model_h_gs, word_heng)\n",
        "print('--'*20)\n",
        "getMeasure_cosine(model_h_gs_aug, word_heng)\n",
        "print('\\n')\n",
        "print('*****'*2 ,'Simlex' ,'*****'*5)\n",
        "getMeasures(model_h_gs, simlex_heng, t=1)\n",
        "print('--'*20)\n",
        "getMeasures(model_h_gs_aug, simlex_heng, t=1)\n",
        "print('\\n')\n",
        "print('*****'*2 ,'Wordsim' ,'*****'*5)\n",
        "getMeasures(model_h_gs, wordsim_heng, t=1)\n",
        "print('--'*20)\n",
        "getMeasures(model_h_gs_aug, wordsim_heng, t=1)"
      ],
      "execution_count": null,
      "outputs": [
        {
          "output_type": "stream",
          "text": [
            "********** Word Analogy *************************\n",
            "cosine sim 0.05955080842246202\n",
            "----------------------------------------\n",
            "cosine sim 0.06547663614622583\n",
            "\n",
            "\n",
            "********** Simlex *************************\n",
            "cosine sim 0.034910053500791405\n",
            "pearson corr (0.10186086381635936, 5.0644779796386165e-06)\n",
            "spearman corr SpearmanrResult(correlation=-0.0057747714213506555, pvalue=0.7964323118071639)\n",
            "----------------------------------------\n",
            "cosine sim 0.04420633596799069\n",
            "pearson corr (0.16703644583098115, 5.711145024479149e-14)\n",
            "spearman corr SpearmanrResult(correlation=0.07304107725087731, pvalue=0.0010862304131650335)\n",
            "\n",
            "\n",
            "********** Wordsim *************************\n",
            "cosine sim 0.013328110647367025\n",
            "pearson corr (0.0745755920264187, 0.04761703385539644)\n",
            "spearman corr SpearmanrResult(correlation=0.04895135370881848, pvalue=0.19389453693141218)\n",
            "----------------------------------------\n",
            "cosine sim 0.02048693973407487\n",
            "pearson corr (0.14973813831134591, 6.493205906931576e-05)\n",
            "spearman corr SpearmanrResult(correlation=0.11687334244076182, pvalue=0.0018672968154895945)\n"
          ],
          "name": "stdout"
        }
      ]
    },
    {
      "cell_type": "code",
      "metadata": {
        "colab": {
          "base_uri": "https://localhost:8080/"
        },
        "id": "E4vsELlCKi0i",
        "outputId": "767a61c4-2aba-492e-cec4-6fbae1e819b6"
      },
      "source": [
        "# getMeasure_cosine(model_h_gn, word_heng)\n",
        "# print('*****'*10)\n",
        "# getMeasures(model_h_gn, simlex_heng, t=1)\n",
        "# print('*****'*10)\n",
        "# getMeasures(model_h_gn, wordsim_heng, t=1)\n",
        "\n",
        "print('*****'*2 ,'Word Analogy' ,'*****'*5)\n",
        "getMeasure_cosine(model_h_gn, word_heng)\n",
        "print('--'*20)\n",
        "getMeasure_cosine(model_h_gn_aug, word_heng)\n",
        "print('\\n')\n",
        "print('*****'*2 ,'Simlex' ,'*****'*5)\n",
        "getMeasures(model_h_gn, simlex_heng, t=1)\n",
        "print('--'*20)\n",
        "getMeasures(model_h_gn_aug, simlex_heng, t=1)\n",
        "print('\\n')\n",
        "print('*****'*2 ,'Wordsim' ,'*****'*5)\n",
        "getMeasures(model_h_gn, wordsim_heng, t=1)\n",
        "print('--'*20)\n",
        "getMeasures(model_h_gn_aug, wordsim_heng, t=1)"
      ],
      "execution_count": null,
      "outputs": [
        {
          "output_type": "stream",
          "text": [
            "********** Word Analogy *************************\n",
            "cosine sim 0.20046154369505884\n",
            "----------------------------------------\n",
            "cosine sim 0.2124313171438961\n",
            "\n",
            "\n",
            "********** Simlex *************************\n",
            "cosine sim 0.19794645944101694\n",
            "pearson corr (0.03983972145657303, 0.07501251276549514)\n",
            "spearman corr SpearmanrResult(correlation=-0.009212488741669713, pvalue=0.680676613487591)\n",
            "----------------------------------------\n",
            "cosine sim 0.22264605093219722\n",
            "pearson corr (0.10745038011447028, 1.4804217448539614e-06)\n",
            "spearman corr SpearmanrResult(correlation=0.06615508102008318, pvalue=0.0030918421009520007)\n",
            "\n",
            "\n",
            "********** Wordsim *************************\n",
            "cosine sim 0.13564072168173621\n",
            "pearson corr (0.14497995692486387, 0.00011071217806583068)\n",
            "spearman corr SpearmanrResult(correlation=0.0821479742510591, pvalue=0.029069111963053614)\n",
            "----------------------------------------\n",
            "cosine sim 0.14357196801970648\n",
            "pearson corr (0.17998934533358982, 1.484401508145219e-06)\n",
            "spearman corr SpearmanrResult(correlation=0.12190382986898636, pvalue=0.001172704825795991)\n"
          ],
          "name": "stdout"
        }
      ]
    },
    {
      "cell_type": "code",
      "metadata": {
        "colab": {
          "base_uri": "https://localhost:8080/"
        },
        "id": "1xeANrszKjAW",
        "outputId": "45716534-7514-4015-f488-95d8d956c909"
      },
      "source": [
        "print('*****'*2 ,'Word Analogy' ,'*****'*5)\n",
        "getMeasure_cosine(model_h_gv, word_heng)\n",
        "print('--'*20)\n",
        "getMeasure_cosine(model_h_gv_aug, word_heng)\n",
        "print('\\n')\n",
        "print('*****'*2 ,'Simlex' ,'*****'*5)\n",
        "getMeasures(model_h_gv, simlex_heng, t=1)\n",
        "print('--'*20)\n",
        "getMeasures(model_h_gv_aug, simlex_heng, t=1)\n",
        "print('\\n')\n",
        "print('*****'*2 ,'Wordsim' ,'*****'*5)\n",
        "getMeasures(model_h_gv, wordsim_heng, t=1)\n",
        "print('--'*20)\n",
        "getMeasures(model_h_gv_aug, wordsim_heng, t=1)"
      ],
      "execution_count": null,
      "outputs": [
        {
          "output_type": "stream",
          "text": [
            "********** Word Analogy *************************\n",
            "cosine sim 0.18442298536621518\n",
            "----------------------------------------\n",
            "cosine sim 0.20696061419729392\n",
            "\n",
            "\n",
            "********** Simlex *************************\n",
            "cosine sim 0.1686953121132718\n",
            "pearson corr (0.06048961557534801, 0.006838469883962316)\n",
            "spearman corr SpearmanrResult(correlation=-0.0017078754783528272, pvalue=0.9391863162518991)\n",
            "----------------------------------------\n",
            "cosine sim 0.20138402826413657\n",
            "pearson corr (0.1294375514794301, 6.377350308330223e-09)\n",
            "spearman corr SpearmanrResult(correlation=0.0712543870587739, pvalue=0.001437281110041968)\n",
            "\n",
            "\n",
            "********** Wordsim *************************\n",
            "cosine sim 0.12376432238348987\n",
            "pearson corr (0.16139429804025682, 1.639689137496553e-05)\n",
            "spearman corr SpearmanrResult(correlation=0.09494759809346535, pvalue=0.01160099997978497)\n",
            "----------------------------------------\n",
            "cosine sim 0.14262758557112207\n",
            "pearson corr (0.1978502460117739, 1.156910960324656e-07)\n",
            "spearman corr SpearmanrResult(correlation=0.11662429551052211, pvalue=0.0019099356231140226)\n"
          ],
          "name": "stdout"
        }
      ]
    },
    {
      "cell_type": "code",
      "metadata": {
        "colab": {
          "base_uri": "https://localhost:8080/"
        },
        "id": "rgFoGjLLVl-t",
        "outputId": "3b8f2b93-45a5-4084-84a3-0830fc554fe8"
      },
      "source": [
        "getMeasure_cosine_aibharat(model_eng, word_heng)\n",
        "print('*****'*10)\n",
        "getMeasuresAibharat(model_eng, simlex_heng)\n",
        "print('*****'*10)\n",
        "getMeasuresAibharat(model_eng, wordsim_heng)\n",
        "print('*****'*10)"
      ],
      "execution_count": null,
      "outputs": [
        {
          "output_type": "stream",
          "text": [
            "cosine sim 0.5360707681937175\n",
            "**************************************************\n",
            "cosine sim 0.3099695747485608\n",
            "pearson corr (0.19703811832792983, 6.156505183830005e-19)\n",
            "spearman corr SpearmanrResult(correlation=0.15671837733509164, pvalue=1.86343937501036e-12)\n",
            "**************************************************\n",
            "cosine sim 0.24680813535510251\n",
            "pearson corr (0.28531240782213546, 1.0863601509086187e-14)\n",
            "spearman corr SpearmanrResult(correlation=0.260264008497877, pvalue=2.1476889456626768e-12)\n",
            "**************************************************\n"
          ],
          "name": "stdout"
        }
      ]
    },
    {
      "cell_type": "code",
      "metadata": {
        "colab": {
          "base_uri": "https://localhost:8080/"
        },
        "id": "tdAjMCECKjJL",
        "outputId": "584e2221-90d7-40eb-82f4-1acbca96b731"
      },
      "source": [
        "getMeasure_cosine(model_e_gs, word_eng)\n",
        "print('*****'*10)\n",
        "getMeasures(model_e_gs, simlex_eng, t=0)\n",
        "print('*****'*10)\n",
        "getMeasures(model_e_gs, wordsim_eng, t=0)"
      ],
      "execution_count": null,
      "outputs": [
        {
          "output_type": "stream",
          "text": [
            "cosine sim 0.23366037545556373\n",
            "**************************************************\n",
            "cosine sim 0.2966567623605896\n",
            "pearson corr (0.29717681539080204, 8.090061582933014e-22)\n",
            "spearman corr SpearmanrResult(correlation=0.2970580923590343, pvalue=8.411513634462876e-22)\n",
            "**************************************************\n",
            "cosine sim 0.20219000928445585\n",
            "pearson corr (0.5187195218027546, 1.049471740814211e-25)\n",
            "spearman corr SpearmanrResult(correlation=0.5188920927198059, pvalue=1.0049745238704434e-25)\n"
          ],
          "name": "stdout"
        }
      ]
    },
    {
      "cell_type": "code",
      "metadata": {
        "colab": {
          "base_uri": "https://localhost:8080/"
        },
        "id": "4GdqflqBMZCf",
        "outputId": "42b62a05-c8e0-486b-fd35-2e70819786aa"
      },
      "source": [
        "getMeasure_cosine(model_e_gn, word_eng)\n",
        "print('*****'*10)\n",
        "getMeasures(model_e_gn, simlex_eng, t=0)\n",
        "print('*****'*10)\n",
        "getMeasures(model_e_gn, wordsim_eng, t=0)"
      ],
      "execution_count": null,
      "outputs": [
        {
          "output_type": "stream",
          "text": [
            "cosine sim 0.2666130715540864\n",
            "**************************************************\n",
            "cosine sim 0.3283170998942254\n",
            "pearson corr (0.38688376735986085, 5.123101099484366e-37)\n",
            "spearman corr SpearmanrResult(correlation=0.376728252069656, pvalue=4.857469678486345e-35)\n",
            "**************************************************\n",
            "cosine sim 0.23891346843060035\n",
            "pearson corr (0.510272865679181, 8.490431940314949e-25)\n",
            "spearman corr SpearmanrResult(correlation=0.5191952136173823, pvalue=9.312778124348126e-26)\n"
          ],
          "name": "stdout"
        }
      ]
    },
    {
      "cell_type": "code",
      "metadata": {
        "colab": {
          "base_uri": "https://localhost:8080/"
        },
        "id": "ASjTfaAWMZMG",
        "outputId": "23de4c99-7ae4-4b60-e8e3-10177fe1d966"
      },
      "source": [
        "getMeasure_cosine(model_e_gv, word_eng)\n",
        "print('*****'*10)\n",
        "getMeasures(model_e_gv, simlex_eng, t=0)\n",
        "print('*****'*10)\n",
        "getMeasures(model_e_gv, wordsim_eng, t=0)"
      ],
      "execution_count": null,
      "outputs": [
        {
          "output_type": "stream",
          "text": [
            "cosine sim 0.27238130613145506\n",
            "**************************************************\n",
            "cosine sim 0.3359952575316908\n",
            "pearson corr (0.38556206423198713, 9.349342700160802e-37)\n",
            "spearman corr SpearmanrResult(correlation=0.3741928799807553, pvalue=1.4761227983531944e-34)\n",
            "**************************************************\n",
            "cosine sim 0.24589866572178415\n",
            "pearson corr (0.5197587611168615, 8.081614315222169e-26)\n",
            "spearman corr SpearmanrResult(correlation=0.5177253091748142, pvalue=1.3463639903617732e-25)\n"
          ],
          "name": "stdout"
        }
      ]
    },
    {
      "cell_type": "code",
      "metadata": {
        "colab": {
          "base_uri": "https://localhost:8080/"
        },
        "id": "790kGdrvPRf4",
        "outputId": "fc7ab4a5-f763-4178-e0ef-850fc01b7806"
      },
      "source": [
        "getMeasure_cosine(model_eng, word_eng)\n",
        "print('*****'*10)\n",
        "getMeasures(model_eng, simlex_eng, t=0)\n",
        "print('*****'*10)\n",
        "getMeasures(model_eng, wordsim_eng, t=0)"
      ],
      "execution_count": null,
      "outputs": [
        {
          "output_type": "stream",
          "text": [
            "cosine sim 0.7028243741122159\n",
            "**************************************************\n",
            "cosine sim 0.5582480674033409\n",
            "pearson corr (0.46973363800244045, 5.726202817860239e-56)\n",
            "spearman corr SpearmanrResult(correlation=0.4499649189464246, pvalue=5.873938609083687e-51)\n",
            "**************************************************\n",
            "cosine sim 0.48025659663819054\n",
            "pearson corr (0.7029515397109581, 6.886447133918337e-54)\n",
            "spearman corr SpearmanrResult(correlation=0.7332763287687719, pvalue=9.073227394420638e-61)\n"
          ],
          "name": "stdout"
        }
      ]
    },
    {
      "cell_type": "code",
      "metadata": {
        "id": "u7IcbeBXOnzI"
      },
      "source": [
        "def getMeasure_cosine_aibharat(model, wordanalogy):\n",
        "  model_words = set(model.vocab)\n",
        "  cosine_sim = []\n",
        "  with open(wordanalogy,'r') as f:\n",
        "    for line in f:\n",
        "      line = line.split()\n",
        "      if (line[0] in model_heng) and (line[1] in model_heng):\n",
        "        cosine_sim.append(cosine_similarity(model_heng[line[0]], model_heng[line[1]])[0][0])\n",
        "        continue\n",
        "      elif (line[0] in model_words) and (line[1] in model_words):\n",
        "        cosine_sim.append(cosine_similarity(model[line[0]].reshape(1,-1), model[line[1]].reshape(1,-1))[0][0])\n",
        "      else:\n",
        "        cosine_sim.append(0)\n",
        "  print('cosine sim', np.sum(np.array(cosine_sim))/len(cosine_sim))\n"
      ],
      "execution_count": null,
      "outputs": []
    },
    {
      "cell_type": "code",
      "metadata": {
        "id": "y1a2Uw_oZ9CT"
      },
      "source": [
        "def getMeasuresAibharat(model, file):\n",
        "  model_words = set(model.vocab)\n",
        "  cosine_sim, cosine_dist, pearson, spearman, human = [], [], [], [], []\n",
        "\n",
        "  with open(file,'r') as f:\n",
        "    for line in csv.reader(f, delimiter='\\t'):\n",
        "      # line = line.split()\n",
        "      if line[0] is '#':\n",
        "        continue\n",
        "      elif (line[0] in model_heng) and (line[1] in model_heng):\n",
        "        cosine_sim.append(cosine_similarity(model_heng[line[0]], model_heng[line[1]])[0][0])\n",
        "        human.append(float(line[2]))\n",
        "        continue\n",
        "      elif (line[0] in model_words) and (line[1] in model_words):\n",
        "        cosine_sim.append(cosine_similarity(model[line[0]].reshape(1,-1), model[line[1]].reshape(1,-1))[0][0])\n",
        "        human.append(float(line[2]))\n",
        "      else:\n",
        "        human.append(float(line[2]))\n",
        "        cosine_sim.append(0)\n",
        "  print('cosine sim', np.sum(np.array(cosine_sim))/len(cosine_sim))\n",
        "  print('pearson corr', pearsonr(human, cosine_sim))\n",
        "  print('spearman corr', spearmanr(human, cosine_sim))  "
      ],
      "execution_count": null,
      "outputs": []
    },
    {
      "cell_type": "code",
      "metadata": {
        "id": "sTfhQmq7V6NG"
      },
      "source": [
        "import seaborn as sns\n",
        "import matplotlib.pyplot as plt"
      ],
      "execution_count": null,
      "outputs": []
    },
    {
      "cell_type": "code",
      "metadata": {
        "id": "cnSdWE3-eTAA"
      },
      "source": [
        "df = sns.load_dataset('titanic')"
      ],
      "execution_count": null,
      "outputs": []
    },
    {
      "cell_type": "code",
      "metadata": {
        "id": "LdLowXYDeUdt"
      },
      "source": [
        "df.head()"
      ],
      "execution_count": null,
      "outputs": []
    },
    {
      "cell_type": "code",
      "metadata": {
        "id": "8Kl_3PQDefGa"
      },
      "source": [
        "data = {'Models':['H_gs', 'H_gs_aug', 'H_gn', 'H_gn_aug', 'H_gv', 'H_gv_aug', 'H_FT', 'E_gs', 'E_gn', 'E_gv', 'E_FT'],\n",
        "        'Cosine_Similarity':[0.059, 0.064, 0.200, 0.212, 0.184, 0.206, 0.536, 0.233, 0.266, 0.272, 0.702]\n",
        "       }\n",
        "df = pd.DataFrame(data)"
      ],
      "execution_count": null,
      "outputs": []
    },
    {
      "cell_type": "code",
      "metadata": {
        "colab": {
          "base_uri": "https://localhost:8080/",
          "height": 565
        },
        "id": "0-rtwhXueGXp",
        "outputId": "d2680941-0ffb-47a7-ab32-47e139a96690"
      },
      "source": [
        "plt.figure(figsize=(10, 8), dpi=80)\n",
        "sns.barplot(x = 'Models',\n",
        "            y = 'Cosine_Similarity',\n",
        "            hue = 'Models',\n",
        "            data = df)\n",
        "plt.title('Google Word Analogy')\n",
        "plt.show()"
      ],
      "execution_count": null,
      "outputs": [
        {
          "output_type": "display_data",
          "data": {
            "image/png": "[encoded data removed]",
            "text/plain": [
              "<Figure size 800x640 with 1 Axes>"
            ]
          },
          "metadata": {
            "tags": []
          }
        }
      ]
    },
    {
      "cell_type": "code",
      "metadata": {
        "id": "Ua_AWUEXf_ze"
      },
      "source": [
        "data = {'Models':['H_gs', 'H_gs_aug', 'H_gn', 'H_gn_aug', 'H_gv', 'H_gv_aug', 'H_FT', 'E_gs', 'E_gn', 'E_gv', 'E_FT'],\n",
        "        'Cosine_Similarity':[0.034, 0.044, 0.197, 0.222, 0.168, 0.201, 0.309, 0.296, 0.328, 0.335, 0.558],\n",
        "        'Pearson_Correlation':[0.101, 0.167,0.039, 0.107, 0.060, 0.129, 0.197, 0.297, 0.386, 0.385, 0.496],\n",
        "        'Spearman_Correlation':[0.005, 0.073, 0.009, 0.066, 0.001, 0.071, 0.156, 0.297, 0.376, 0.374, 0.449]}\n",
        "df = pd.DataFrame(data)"
      ],
      "execution_count": null,
      "outputs": []
    },
    {
      "cell_type": "code",
      "metadata": {
        "colab": {
          "base_uri": "https://localhost:8080/",
          "height": 686
        },
        "id": "lbP5vpG6jdWL",
        "outputId": "cf73c0b2-2c36-46d8-8c6a-9fcf7693ab41"
      },
      "source": [
        "plt.figure(figsize=(12, 10), dpi=80)\n",
        "plt.plot(data['Models'], data['Cosine_Similarity'], marker = 'o', label='Cosine')\n",
        "plt.plot(data['Models'], data['Pearson_Correlation'], marker = '*', label='Pearson')\n",
        "plt.plot(data['Models'], data['Spearman_Correlation'], marker = 'x', label='Spearman')\n",
        "plt.xlabel('Models')\n",
        "plt.ylabel('scores')\n",
        "plt.title('Sim-Lex999')\n",
        "plt.grid()\n",
        "plt.legend()\n",
        "plt.show()"
      ],
      "execution_count": null,
      "outputs": [
        {
          "output_type": "display_data",
          "data": {
            "image/png": "[encoded data removed]",
            "text/plain": [
              "<Figure size 960x800 with 1 Axes>"
            ]
          },
          "metadata": {
            "tags": []
          }
        }
      ]
    },
    {
      "cell_type": "code",
      "metadata": {
        "id": "v3dq_LjojqI9"
      },
      "source": [
        "data = {'Models':['H_gs', 'H_gs_aug', 'H_gn', 'H_gn_aug', 'H_gv', 'H_gv_aug', 'H_FT', 'E_gs', 'E_gn', 'E_gv', 'E_FT'],\n",
        "        'Cosine_Similarity':[0.013, 0.020, 0.135, 0.143, 0.123, 0.142, 0.246, 0.202, 0.239, 0.246, 0.480],\n",
        "        'Pearson_Correlation':[0.074, 0.149, 0.145, 0.179, 0.161, 0.197, 0.285, 0.518, 0.510, 0.519, 0.703],\n",
        "        'Spearman_Correlation':[0.048, 0.117, 0.082, 0.121, 0.095, 0.117, 0.260, 0.519, 0.519, 0.518, 0.733]}\n",
        "df = pd.DataFrame(data)"
      ],
      "execution_count": null,
      "outputs": []
    },
    {
      "cell_type": "markdown",
      "metadata": {
        "id": "iWmWTczDvZe2"
      },
      "source": [
        ""
      ]
    },
    {
      "cell_type": "code",
      "metadata": {
        "id": "I2Fo93jztBHj",
        "colab": {
          "base_uri": "https://localhost:8080/",
          "height": 686
        },
        "outputId": "6ce474cb-4b89-4dae-e221-3f10b0ca4e48"
      },
      "source": [
        "plt.figure(figsize=(12, 10), dpi=80)\n",
        "plt.plot(data['Models'], data['Cosine_Similarity'], marker = 'o', label='Cosine')\n",
        "plt.plot(data['Models'], data['Pearson_Correlation'], marker = '*', label='Pearson')\n",
        "plt.plot(data['Models'], data['Spearman_Correlation'], marker = 'x', label='Spearman')\n",
        "plt.xlabel('Models')\n",
        "plt.ylabel('scores')\n",
        "plt.title('Wordsim')\n",
        "plt.grid()\n",
        "plt.legend()\n",
        "plt.show()"
      ],
      "execution_count": null,
      "outputs": [
        {
          "output_type": "display_data",
          "data": {
            "image/png": "[encoded data removed]",
            "text/plain": [
              "<Figure size 960x800 with 1 Axes>"
            ]
          },
          "metadata": {
            "tags": []
          }
        }
      ]
    }
  ]
}